{
 "cells": [
  {
   "cell_type": "markdown",
   "metadata": {},
   "source": [
    "# SVM - Kernel\n",
    "\n",
    "* Potentielle Kernel: RBF, Polynomial, Spectral Mixture Kernel, Sigmoid Kernel\n",
    "* Calculate SVM using dual decision functions\n",
    "* Thus: Model theta has as many parameters as examples.\n",
    "* Kernel function: Measure of similarity between instances.\n",
    "* Hence: How similar is instance x to each other trainings instance?\n",
    "* Derivation from the primal into the dual form is necessary (lecture).\n",
    "\n",
    "Optimization criterion of the dual SVM:\n",
    "\n",
    "$$\n",
    "max_{\\beta} \\sum_{i=1}^n \\beta_i - \\frac{1}{2} \\sum_{i,j=1}^n \\beta_i \\beta_j y_i y_j k(x_i,x_j) \\text{, such that } 0 \\leq \\beta_i \\leq \\lambda\n",
    "$$\n",
    "\n",
    "* Optimization over parameters beta\n",
    "* Sparse solution (solution of a problem where most of the elements are zero)\n",
    "* Reason: Samples only appear as pairwise inner products.\n",
    "* Sparsity desired property because it often leads to simpler, more interpretable models.\n",
    "* QPP - Quadratic programming problem\n",
    "\n",
    "Dual from of the decision function:\n",
    "\n",
    "$$\n",
    "f_{\\beta}(x)= \\sum_{x_i\\in SV} \\beta_i y_i k(x_i, x)\n",
    "$$\n",
    "\n",
    "(SV = Support Vectors)\n",
    "\n",
    "* Only the support vectors (points with non-zero beta_i) contribute to the decision function.\n",
    "* Decision function is weighted sum over the support vectors.\n",
    "* Decides the class based on the sign of this sum.\n",
    "\n",
    "\n",
    "**Hint:**\n",
    "\n",
    "This code is a implementation of kernelized empirical risk minimization that aligns with the SVM concepts but uses gradient descent instead of directly solving the dual problem via quadratic programming."
   ]
  },
  {
   "cell_type": "markdown",
   "metadata": {},
   "source": [
    "## Data Import"
   ]
  },
  {
   "cell_type": "code",
   "execution_count": 1,
   "metadata": {},
   "outputs": [
    {
     "name": "stdout",
     "output_type": "stream",
     "text": [
      "Checking path: ../../data_split_indices.pkl\n",
      "Path exists: True\n"
     ]
    }
   ],
   "source": [
    "from scipy.io import loadmat\n",
    "from sklearn.model_selection import ParameterGrid\n",
    "import os\n",
    "import matplotlib.pyplot as plt\n",
    "import numpy as np\n",
    "import sys\n",
    "sys.path.append('..')\n",
    "from svm_helper import SvmHelper\n",
    "from svm_grid_search import SvmGridSearch\n",
    "from dataset import BaseDataset\n",
    "from sklearn.metrics import classification_report, accuracy_score\n",
    "import warnings\n",
    "warnings.filterwarnings('ignore')\n",
    "import time\n",
    "\n",
    "file_path = \"../../data/laser.mat\"\n",
    "mat_dict = loadmat(file_path)\n",
    "\n",
    "dataset = BaseDataset(mat_dict, \"X\", \"Y\")"
   ]
  },
  {
   "cell_type": "markdown",
   "metadata": {},
   "source": [
    "## Grid-Search"
   ]
  },
  {
   "cell_type": "code",
   "execution_count": 2,
   "metadata": {},
   "outputs": [],
   "source": [
    "param_grid = {\n",
    "    'epsilon': [1e-4, 1e-5, 1e-6],\n",
    "    'alpha_0': [0.001, 0.01, 0.1, 1],\n",
    "    'lambda_value': [0.001, 0.01, 0.1, 1.0, 10.0],\n",
    "    'decay': [0.001, 0.01, 0.1, 0.9]\n",
    "}\n",
    "\n",
    "kernel_param_grid = {\n",
    "    'polynomial': {\n",
    "        'degree': [1, 2, 3, 4, 5, 6, 7, 8, 9],\n",
    "        'kernel_alpha': [1, 0.1],\n",
    "        'c': [0, 0.5, 1]\n",
    "    },\n",
    "    'rbf': {\n",
    "        'gamma': [0.001, 0.01, 0.1, 1.0]\n",
    "    },\n",
    "    'dtw': {} \n",
    "}\n",
    "\n",
    "grid_searcher = SvmGridSearch(dataset, param_grid, kernel_param_grid)"
   ]
  },
  {
   "cell_type": "markdown",
   "metadata": {},
   "source": [
    "## DTW Kernel\n",
    "\n",
    "DTW = Dynamic Time Warping - A way to measure the similarity between two sequences, which vary in length or be misaligned in time.\n",
    "\n",
    "Given a metric $d: X \\times X \\rightarrow \\mathbb{R}_{\\geq 0}$ on the input space $X$, the family of *DTW Kernels* is given as:\n",
    "\n",
    "$$ k_{\\text{DTW}}(x, x') = e^{- \\lambda d_{\\text{DTW}}(x, x'; d)}, $$\n",
    "\n",
    "* Distance measure $d_{DTW}$ is heart of DTW and is computed by a recursive function $\\gamma(i, j)$.\n",
    "* $\\gamma(i, j)$ builds up the minimal distance between the sequences uop to position i,j.\n",
    "* Computation of DTW distance: Dynamic programming with a $(|x|+1) \\times (|x'|+1)$ grid.\n",
    "\n",
    "**Note:**\n",
    "\n",
    "$$\n",
    "d_{DTW}(x,x´;d) = \\gamma(\\mid x\\mid,\\mid x´\\mid )\n",
    "$$\n",
    "\n",
    "$$ \n",
    "\\gamma(i, j) = \\begin{cases} d(x_i, x_j') + \\min\\left(\\gamma(i-1, j-1), \\gamma(i-1, j), \\gamma(i, j-1)\\right) & (1 \\leq i \\leq |x|, \\, 1 \\leq j \\leq |x'|), \\\\ \n",
    "\\infty & i = 0 \\vee j = 0, \\\\\n",
    "0 & (i, j) = (0, 0). \\end{cases}\n",
    "$$\n",
    "\n",
    "* $\\gamma(i, j)$ is calculated all possible combinations of $j$ and $i$, starting from $\\gamma(0, 0)$ up to $\\gamma(\\mid x\\mid,\\mid x´\\mid )$\n",
    "\n",
    "Table:\n",
    "\n",
    "|     | 0   | 2   | 4   | 6   |\n",
    "|-----|-----|-----|-----|-----|\n",
    "| 0   | 0   | ∞   | ∞   | ∞   |\n",
    "| 1   | ∞   | 1   | 9   | 25  |\n",
    "| 3   | ∞   | 2   | 2   | 14  |\n",
    "| 4   | ∞   | 5   | 2   | 8   |\n",
    "\n",
    "\n",
    "$$ \\gamma(1, 1) = (1 - 2)^2 + \\min(\\gamma(0, 0), \\gamma(0, 1), \\gamma(1, 0)) = 1 + 0 = 1 $$\n",
    "$$\\gamma(2, 2) = (3 - 4)^2 + \\min(\\gamma(1, 1), \\gamma(1, 2), \\gamma(2, 1)) = 1 + 1 = 2 $$\n",
    "\n",
    "The final DTW distance is:\n",
    "\n",
    "$$\n",
    "\\gamma(3, 3) = 8\n",
    "$$\n",
    "\n",
    "\n",
    "\n",
    "\n",
    "\n",
    "\n",
    "<img src=\"../../images/DTW_dynamic_programming.png\" alt=\"Image\" style=\"width:30%\">\n",
    "\n",
    "Figure A: Example of a DTW $\\gamma(i, j)$.\n",
    "\n"
   ]
  },
  {
   "cell_type": "code",
   "execution_count": null,
   "metadata": {},
   "outputs": [],
   "source": [
    "try:\n",
    "    dtw_param_result = grid_searcher.grid_search('dtw')\n",
    "\n",
    "    dtw_selected_kernel = dtw_param_result['selected_kernel']\n",
    "    dtw_best_params = dtw_param_result['best_params']\n",
    "    dtw_best_accuracy = dtw_param_result['best_accuracy']\n",
    "    dtw_accuracies_history = dtw_param_result['accuracies_history']\n",
    "    dtw_elapsed_time = dtw_param_result['elapsed_time']\n",
    "\n",
    "except Exception as e:\n",
    "    print(f\"An error occurred: {e}\")\n",
    "    grid_searcher.send_imessage(\"+491742064864\", f\"Exception: {e}\")"
   ]
  },
  {
   "cell_type": "code",
   "execution_count": null,
   "metadata": {},
   "outputs": [],
   "source": [
    "try:\n",
    "\n",
    "    dtw_test_result = grid_searcher.train_and_test(dtw_selected_kernel, dtw_best_params, max_iterations=100, output_dir=\"../../figures\")\n",
    "\n",
    "except Exception as e:\n",
    "    print(f\"An error occurred: {e}\")\n",
    "    grid_searcher.send_imessage(\"+491742064864\", f\"Exception: {e}\")"
   ]
  },
  {
   "cell_type": "markdown",
   "metadata": {},
   "source": [
    "## Polynomial Kernel\n",
    "\n",
    "$$\n",
    "k_{poly}(x,x´) = (\\alpha*x^Tx´+c)^d\n",
    "$$\n",
    "\n",
    "- $\\alpha$ scaling factor\n",
    "- $c$ constant that allows the model to shift the boundary\n",
    "- $d$ degree of the polynomial\n"
   ]
  },
  {
   "cell_type": "code",
   "execution_count": null,
   "metadata": {},
   "outputs": [],
   "source": [
    "try:\n",
    "    polynomial_param_result = grid_searcher.grid_search('polynomial')\n",
    "    \n",
    "    polynomial_selected_kernel = polynomial_param_result['selected_kernel']\n",
    "    polynomial_best_params = polynomial_param_result['best_params']\n",
    "    polynomial_best_accuracy = polynomial_param_result['best_accuracy']\n",
    "    polynomial_accuracies_history = polynomial_param_result['accuracies_history']\n",
    "    polynomial_elapsed_time = polynomial_param_result['elapsed_time']\n",
    "\n",
    "except Exception as e:\n",
    "    print(f\"An error occurred: {e}\")\n",
    "    grid_searcher.send_imessage(\"+491742064864\", f\"Exception: {e}\")"
   ]
  },
  {
   "cell_type": "code",
   "execution_count": null,
   "metadata": {},
   "outputs": [],
   "source": [
    "try: \n",
    "    polynomial_test_result = grid_searcher.train_and_test(polynomial_selected_kernel, polynomial_best_params, max_iterations=100, output_dir=\"../../figures\")\n",
    "\n",
    "except Exception as e:\n",
    "    print(f\"An error occurred: {e}\")\n",
    "    grid_searcher.send_imessage(\"+491742064864\", f\"Exception: {e}\")"
   ]
  },
  {
   "cell_type": "markdown",
   "metadata": {},
   "source": [
    "## RBF Kernel\n",
    "\n",
    "RBF - Radial Basis Function\n",
    "\n",
    "$$\n",
    "k_{RBF}(x,x´) = e^{-\\lambda *\\| x-x´\\|^2 }\n",
    "$$\n",
    "\n",
    "- $\\lambda$ controls width of the Gaussian"
   ]
  },
  {
   "cell_type": "code",
   "execution_count": 3,
   "metadata": {},
   "outputs": [],
   "source": [
    "try:\n",
    "    rbf_selected_kernel, rbf_best_params, rbf_best_accuracy, rbf_accuracies_history, rbf_elapsed_time = grid_searcher.grid_search('rbf')\n",
    "    \n",
    "    rbf_param_result = grid_searcher.grid_search('rbf')\n",
    "    \n",
    "    rbf_selected_kernel = rbf_param_result['selected_kernel']\n",
    "    rbf_best_params = rbf_param_result['best_params']\n",
    "    rbf_best_accuracy = rbf_param_result['best_accuracy']\n",
    "    rbf_accuracies_history = rbf_param_result['accuracies_history']\n",
    "    rbf_elapsed_time = rbf_param_result['elapsed_time']\n",
    "\n",
    "except Exception as e:\n",
    "    print(f\"An error occurred: {e}\")\n",
    "    grid_searcher.send_imessage(\"+491742064864\", f\"Exception: {e}\")"
   ]
  },
  {
   "cell_type": "code",
   "execution_count": 5,
   "metadata": {},
   "outputs": [
    {
     "name": "stdout",
     "output_type": "stream",
     "text": [
      "rbf - Run 1:\n",
      "An error occurred: name 'dataset' is not defined\n"
     ]
    }
   ],
   "source": [
    "try:\n",
    "    rbf_test_result = grid_searcher.train_and_test(rbf_selected_kernel, rbf_best_params, max_iterations=100, output_dir=\"../../figures\")\n",
    "\n",
    "except Exception as e:\n",
    "    print(f\"An error occurred: {e}\")\n",
    "    grid_searcher.send_imessage(\"+491742064864\", f\"Exception: {e}\")"
   ]
  },
  {
   "cell_type": "code",
   "execution_count": null,
   "metadata": {},
   "outputs": [],
   "source": [
    "grid_searcher.send_imessage(\"+491742064864\", \"Ready!\")"
   ]
  },
  {
   "cell_type": "markdown",
   "metadata": {},
   "source": [
    "## Save results"
   ]
  },
  {
   "cell_type": "code",
   "execution_count": null,
   "metadata": {},
   "outputs": [],
   "source": [
    "%store dtw_param_result\n",
    "%store dtw_test_result\n",
    "%store polynomial_param_result\n",
    "%store polynomial_test_result\n",
    "%store rtf_param_result\n",
    "%store rtf_test_result"
   ]
  }
 ],
 "metadata": {
  "kernelspec": {
   "display_name": "envPython3",
   "language": "python",
   "name": "python3"
  },
  "language_info": {
   "codemirror_mode": {
    "name": "ipython",
    "version": 3
   },
   "file_extension": ".py",
   "mimetype": "text/x-python",
   "name": "python",
   "nbconvert_exporter": "python",
   "pygments_lexer": "ipython3",
   "version": "3.9.18"
  }
 },
 "nbformat": 4,
 "nbformat_minor": 2
}
