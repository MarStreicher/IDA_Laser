{
 "cells": [
  {
   "cell_type": "code",
   "execution_count": 9,
   "metadata": {},
   "outputs": [
    {
     "name": "stdout",
     "output_type": "stream",
     "text": [
      "Checking path: ../../data_split_indices.pkl\n",
      "Path exists: True\n",
      "Checking path: ../../data_split_indices.pkl\n",
      "Path exists: True\n"
     ]
    }
   ],
   "source": [
    "from scipy.io import loadmat\n",
    "import os\n",
    "import matplotlib.pyplot as plt\n",
    "import numpy as np\n",
    "import sys\n",
    "sys.path.append('..')\n",
    "from svm_helper import SvmHelper\n",
    "from svm_grid_search import SvmGridSearch\n",
    "from dataset import AugmentedDataset\n",
    "import pickle\n",
    "from sklearn.metrics import accuracy_score\n",
    "\n",
    "file_path = \"../../data/laser.mat\"\n",
    "mat_dict = loadmat(file_path)\n",
    "\n",
    "datasetAugmented = AugmentedDataset(mat_dict, \"X\", \"Y\")\n",
    "datasetAugmentedFeatures = AugmentedDataset(mat_dict, \"X\", \"Y\", \"r2+diff\")\n",
    "\n",
    "with open('../../variables.pkl', 'rb') as f:\n",
    "    data = pickle.load(f)\n",
    "\n",
    "grid_searcher_augmented = SvmGridSearch(datasetAugmented)\n"
   ]
  },
  {
   "cell_type": "markdown",
   "metadata": {},
   "source": [
    "Testing with same (augmented) test data. "
   ]
  },
  {
   "cell_type": "markdown",
   "metadata": {},
   "source": [
    "## Linear classifier"
   ]
  },
  {
   "cell_type": "code",
   "execution_count": 5,
   "metadata": {},
   "outputs": [
    {
     "name": "stdout",
     "output_type": "stream",
     "text": [
      "0.925\n"
     ]
    }
   ],
   "source": [
    "linear_optimal_theta = data['linear_optimal_theta']\n",
    "\n",
    "predictions,_,_,_=SvmHelper.predict(datasetAugmentedFeatures.test_inputs, linear_optimal_theta)\n",
    "accuracy = accuracy_score(datasetAugmentedFeatures.test_labels, predictions)\n",
    "print(accuracy)"
   ]
  },
  {
   "cell_type": "markdown",
   "metadata": {},
   "source": [
    "## DTW Kernel"
   ]
  },
  {
   "cell_type": "code",
   "execution_count": 10,
   "metadata": {},
   "outputs": [
    {
     "name": "stdout",
     "output_type": "stream",
     "text": [
      "dtw_accuracy = 0.975\n"
     ]
    }
   ],
   "source": [
    "dtw_param_result = data['dtw_param_result']\n",
    "best_params = dtw_param_result['best_params']\n",
    "\n",
    "dtw_test_result = data['dtw_test_result']\n",
    "best_theta = dtw_test_result['best_theta']\n",
    "\n",
    "dtw_accuracy = grid_searcher_augmented.test('dtw', best_params, best_theta)\n",
    "print(f'{dtw_accuracy = }')"
   ]
  },
  {
   "cell_type": "markdown",
   "metadata": {},
   "source": [
    "## Polynomial Kernel"
   ]
  },
  {
   "cell_type": "code",
   "execution_count": 11,
   "metadata": {},
   "outputs": [
    {
     "name": "stdout",
     "output_type": "stream",
     "text": [
      "polynomial_accuracy = 0.675\n"
     ]
    }
   ],
   "source": [
    "polynomial_param_result = data['polynomial_param_result']\n",
    "best_params = polynomial_param_result['best_params']\n",
    "\n",
    "polynomial_test_result = data['polynomial_test_result']\n",
    "best_theta = polynomial_test_result['best_theta']\n",
    "\n",
    "polynomial_accuracy = grid_searcher_augmented.test('polynomial', best_params, best_theta)\n",
    "print(f'{polynomial_accuracy = }')"
   ]
  },
  {
   "cell_type": "markdown",
   "metadata": {},
   "source": [
    "## RBF Kernel"
   ]
  },
  {
   "cell_type": "code",
   "execution_count": 12,
   "metadata": {},
   "outputs": [
    {
     "name": "stdout",
     "output_type": "stream",
     "text": [
      "rbf_accuracy = 0.975\n"
     ]
    }
   ],
   "source": [
    "rbf_param_result = data['rbf_param_result']\n",
    "best_params = rbf_param_result['best_params']\n",
    "\n",
    "rbf_test_result = data['rbf_test_result']\n",
    "best_theta = rbf_test_result['best_theta']\n",
    "\n",
    "rbf_accuracy = grid_searcher_augmented.test('rbf', best_params, best_theta)\n",
    "print(f'{rbf_accuracy = }')"
   ]
  }
 ],
 "metadata": {
  "kernelspec": {
   "display_name": "envPython3",
   "language": "python",
   "name": "python3"
  },
  "language_info": {
   "codemirror_mode": {
    "name": "ipython",
    "version": 3
   },
   "file_extension": ".py",
   "mimetype": "text/x-python",
   "name": "python",
   "nbconvert_exporter": "python",
   "pygments_lexer": "ipython3",
   "version": "3.9.18"
  }
 },
 "nbformat": 4,
 "nbformat_minor": 2
}
