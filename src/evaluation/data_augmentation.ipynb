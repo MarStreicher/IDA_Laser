{
 "cells": [
  {
   "cell_type": "code",
   "execution_count": null,
   "metadata": {},
   "outputs": [],
   "source": [
    "from scipy.io import loadmat\n",
    "from sklearn.model_selection import ParameterGrid\n",
    "import os\n",
    "import matplotlib.pyplot as plt\n",
    "import numpy as np\n",
    "import sys\n",
    "sys.path.append('..')\n",
    "from svm_helper import SvmHelper\n",
    "from svm_grid_search import SvmGridSearch\n",
    "from dataset import AugmentedDataset\n",
    "from sklearn.metrics import classification_report, accuracy_score\n",
    "import warnings\n",
    "warnings.filterwarnings('ignore')\n",
    "import time\n",
    "\n",
    "file_path = \"../../data/laser.mat\"\n",
    "mat_dict = loadmat(file_path)\n",
    "\n",
    "datasetAugmented = AugmentedDataset(mat_dict, \"X\", \"Y\")"
   ]
  },
  {
   "cell_type": "code",
   "execution_count": null,
   "metadata": {},
   "outputs": [],
   "source": [
    "## Use the thetas from before and predict with the augmented data"
   ]
  }
 ],
 "metadata": {
  "language_info": {
   "name": "python"
  }
 },
 "nbformat": 4,
 "nbformat_minor": 2
}
